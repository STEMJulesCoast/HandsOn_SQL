{
 "cells": [
  {
   "cell_type": "markdown",
   "metadata": {},
   "source": [
    "# Arbeiten mit JSON-Daten und einer SQLite-Datenbank\n",
    "\n",
    "In diesem Notebook werden wir semi-strukturierte JSON-Daten in Python laden und in eine relationale SQLite-Datenbank konvertieren. Anschließend führen wir verschiedene SQL-Abfragen durch, um die Daten zu analysieren und Erkenntnisse zu gewinnen.\n",
    "Schritte:\n",
    "\n",
    "    Laden der JSON-Daten und Konvertierung in ein Pandas DataFrame.\n",
    "    Erstellen einer In-Memory-SQLite-Datenbank und Import der Daten.\n",
    "    Ausführen von SQL-Abfragen, um Daten abzurufen und zu analysieren.\n",
    "\n",
    "***Schritt 1:*** JSON-Daten laden und in ein Pandas DataFrame konvertieren\n",
    "\n",
    "Zunächst erstellen wir ein Beispiel für JSON-Daten, die Benutzerdaten und deren Aktivitäten enthalten. Wir werden diese JSON-Daten in Python laden und in ein Pandas DataFrame konvertieren, um die Daten besser zu visualisieren und zu bearbeiten."
   ]
  },
  {
   "cell_type": "code",
   "execution_count": 1,
   "metadata": {},
   "outputs": [
    {
     "name": "stdout",
     "output_type": "stream",
     "text": [
      "   user_id   username                  email  \\\n",
      "0        1  PlayerOne  playerone@example.com   \n",
      "1        2  GamerGirl  gamergirl@example.com   \n",
      "\n",
      "                                          activities  \n",
      "0  [{'game': 'GameA', 'score': 1500, 'date': '202...  \n",
      "1  [{'game': 'GameA', 'score': 2000, 'date': '202...  \n"
     ]
    }
   ],
   "source": [
    "import json\n",
    "import pandas as pd\n",
    "\n",
    "# Example of JSON data (semi-structured)\n",
    "json_data = '''\n",
    "[\n",
    "    {\n",
    "        \"user_id\": 1,\n",
    "        \"username\": \"PlayerOne\",\n",
    "        \"email\": \"playerone@example.com\",\n",
    "        \"activities\": [\n",
    "            {\"game\": \"GameA\", \"score\": 1500, \"date\": \"2024-08-01\"},\n",
    "            {\"game\": \"GameB\", \"score\": 3000, \"date\": \"2024-08-05\"}\n",
    "        ]\n",
    "    },\n",
    "    {\n",
    "        \"user_id\": 2,\n",
    "        \"username\": \"GamerGirl\",\n",
    "        \"email\": \"gamergirl@example.com\",\n",
    "        \"activities\": [\n",
    "            {\"game\": \"GameA\", \"score\": 2000, \"date\": \"2024-08-03\"}\n",
    "        ]\n",
    "    }\n",
    "]\n",
    "'''\n",
    "\n",
    "# Load the JSON data\n",
    "data = json.loads(json_data)\n",
    "\n",
    "# Convert the list of dictionaries into a Pandas DataFrame\n",
    "df = pd.DataFrame(data)\n",
    "\n",
    "\n",
    "#print(\"Tabular Data:\")\n",
    "print(df)\n"
   ]
  },
  {
   "cell_type": "markdown",
   "metadata": {},
   "source": [
    "***Schritt 2:*** Erstellen einer In-Memory-SQLite-Datenbank\n",
    "\n",
    "Jetzt erstellen wir eine SQLite-Datenbank im Arbeitsspeicher (In-Memory) und importieren die JSON-Daten in zwei Tabellen: Users und Activities."
   ]
  },
  {
   "cell_type": "code",
   "execution_count": 2,
   "metadata": {},
   "outputs": [],
   "source": [
    "import sqlite3\n",
    "\n",
    "# Connect to an in-memory SQLite database\n",
    "connection = sqlite3.connect(':memory:')\n",
    "cursor = connection.cursor()\n",
    "\n",
    "# Create the Users table\n",
    "cursor.execute('''\n",
    "CREATE TABLE Users (\n",
    "    user_id INTEGER PRIMARY KEY,\n",
    "    username TEXT,\n",
    "    email TEXT\n",
    ")\n",
    "''')\n",
    "\n",
    "# Create the Activities table\n",
    "cursor.execute('''\n",
    "CREATE TABLE Activities (\n",
    "    activity_id INTEGER PRIMARY KEY AUTOINCREMENT,\n",
    "    user_id INTEGER,\n",
    "    game TEXT,\n",
    "    score INTEGER,\n",
    "    date DATE,\n",
    "    FOREIGN KEY (user_id) REFERENCES Users(user_id)\n",
    ")\n",
    "''')\n",
    "\n",
    "# Insert  data into the relational database\n",
    "cursor.execute('''\n",
    "INSERT INTO Users (user_id, username, email) VALUES (1, 'PlayerOne', 'playerone@example.com')\n",
    "''')\n",
    "\n",
    "cursor.execute('''\n",
    "INSERT INTO Users (user_id, username, email) VALUES (2, 'GamerGirl', 'gamergirl@example.com')\n",
    "''')\n",
    "\n",
    "# Direkteingabe von Daten in die Activities-Tabelle\n",
    "cursor.execute('''\n",
    "INSERT INTO Activities (user_id, game, score, date) VALUES (1, 'GameA', 1500, '2024-08-01')\n",
    "''')\n",
    "\n",
    "cursor.execute('''\n",
    "INSERT INTO Activities (user_id, game, score, date) VALUES (1, 'GameB', 3000, '2024-08-05')\n",
    "''')\n",
    "\n",
    "cursor.execute('''\n",
    "INSERT INTO Activities (user_id, game, score, date) VALUES (2, 'GameA', 2000, '2024-08-03')\n",
    "''')# Commit the changes\n",
    "connection.commit()\n"
   ]
  },
  {
   "cell_type": "markdown",
   "metadata": {},
   "source": [
    "***Schritt 3:*** Abfragen der Daten in der SQLite-Datenbank\n",
    "\n",
    "Nun führen wir verschiedene SQL-Abfragen durch, um die in der Datenbank gespeicherten Informationen abzurufen und zu analysieren.\n",
    "\n",
    "Abfrage 1: Alle Daten aus der Users-Tabelle anzeigen"
   ]
  },
  {
   "cell_type": "code",
   "execution_count": 3,
   "metadata": {},
   "outputs": [
    {
     "name": "stdout",
     "output_type": "stream",
     "text": [
      "Users Table Output:\n",
      "(1, 'PlayerOne', 'playerone@example.com')\n",
      "(2, 'GamerGirl', 'gamergirl@example.com')\n"
     ]
    }
   ],
   "source": [
    "# Query to check all data in the Users table\n",
    "cursor.execute('SELECT * FROM Users')\n",
    "rows = cursor.fetchall()\n",
    "\n",
    "print(\"Users Table Output:\")\n",
    "for row in rows:\n",
    "    print(row)"
   ]
  },
  {
   "cell_type": "markdown",
   "metadata": {},
   "source": [
    "Abfrage 2: Daten für einen bestimmten User anzeigen"
   ]
  },
  {
   "cell_type": "code",
   "execution_count": 4,
   "metadata": {},
   "outputs": [
    {
     "name": "stdout",
     "output_type": "stream",
     "text": [
      "\n",
      "Data for PlayerOne:\n",
      "(1, 'PlayerOne', 'playerone@example.com')\n"
     ]
    }
   ],
   "source": [
    "# Query to check data for a specific user\n",
    "cursor.execute('''\n",
    "SELECT * FROM Users WHERE username = \"PlayerOne\"\n",
    "''')\n",
    "rows = cursor.fetchall()\n",
    "\n",
    "print(\"\\nData for PlayerOne:\")\n",
    "for row in rows:\n",
    "    print(row)"
   ]
  },
  {
   "cell_type": "markdown",
   "metadata": {},
   "source": [
    "Abfrage 3: Join der Tabellen Users und Activities für einen bestimmten User"
   ]
  },
  {
   "cell_type": "code",
   "execution_count": 5,
   "metadata": {},
   "outputs": [
    {
     "name": "stdout",
     "output_type": "stream",
     "text": [
      "Joined Data for PlayerOne:\n",
      "(1, 'PlayerOne', 'playerone@example.com', 'GameA', 1500, '2024-08-01')\n",
      "(1, 'PlayerOne', 'playerone@example.com', 'GameB', 3000, '2024-08-05')\n"
     ]
    }
   ],
   "source": [
    "# This query joins the Users and Activities tables and filters results where the username is 'PlayerOne'\n",
    "cursor.execute('''\n",
    "SELECT Users.user_id, Users.username, Users.email, Activities.game, \n",
    "Activities.score, Activities.date\n",
    "FROM Activities\n",
    "JOIN Users ON Activities.user_id = Users.user_id\n",
    "WHERE Users.username = 'PlayerOne';\n",
    "''')\n",
    "\n",
    "# The pure SQL code would be:\n",
    "# SELECT Users.user_id, Users.username, Users.email, Activities.game, \n",
    "# Activities.score, Activities.date\n",
    "# FROM Activities\n",
    "# JOIN Users ON Activities.user_id = Users.user_id\n",
    "# WHERE Users.username = 'PlayerOne';\n",
    "\n",
    "# Fetch and print the results\n",
    "rows = cursor.fetchall()\n",
    "\n",
    "print(\"Joined Data for PlayerOne:\")\n",
    "for row in rows:\n",
    "    print(row)"
   ]
  },
  {
   "cell_type": "markdown",
   "metadata": {},
   "source": [
    "Abfrage 4: Anzahl der einzigartigen User in der Datenbank zählen"
   ]
  },
  {
   "cell_type": "code",
   "execution_count": 6,
   "metadata": {},
   "outputs": [
    {
     "name": "stdout",
     "output_type": "stream",
     "text": [
      "Number of unique players in the database: 2\n"
     ]
    }
   ],
   "source": [
    "# Query to count the number of unique players (distinct users) in the database\n",
    "cursor.execute('''\n",
    "SELECT COUNT(DISTINCT user_id) \n",
    "FROM Users;\n",
    "''')\n",
    "\n",
    "# Fetch and print the number of unique players\n",
    "num_unique_players = cursor.fetchone()[0]\n",
    "print(f\"Number of unique players in the database: {num_unique_players}\")"
   ]
  },
  {
   "cell_type": "markdown",
   "metadata": {},
   "source": [
    "Abfrage 5: Durchschnittliche Punktzahl für PlayerOne berechnen"
   ]
  },
  {
   "cell_type": "code",
   "execution_count": 7,
   "metadata": {},
   "outputs": [
    {
     "data": {
      "text/plain": [
       "<sqlite3.Cursor at 0x1684f8e9340>"
      ]
     },
     "execution_count": 7,
     "metadata": {},
     "output_type": "execute_result"
    }
   ],
   "source": [
    "# Calculate the average score for PlayerOne\n",
    "cursor.execute('''\n",
    "SELECT AVG(score) \n",
    "FROM Activities\n",
    "JOIN Users ON Activities.user_id = Users.user_id\n",
    "WHERE Users.username = 'PlayerOne';\n",
    "''')\n"
   ]
  },
  {
   "cell_type": "markdown",
   "metadata": {},
   "source": [
    "Abfrage 6: Durchschnittliche Punktzahl für alle Benutzer berechnen"
   ]
  },
  {
   "cell_type": "code",
   "execution_count": 8,
   "metadata": {},
   "outputs": [
    {
     "name": "stdout",
     "output_type": "stream",
     "text": [
      "Average Score for PlayerOne: 2250.0\n",
      "Average Score across all users: 2166.6666666666665\n"
     ]
    }
   ],
   "source": [
    "# Fetch and print the average score for PlayerOne\n",
    "avg_score_playerone = cursor.fetchone()[0]\n",
    "print(f\"Average Score for PlayerOne: {avg_score_playerone}\")\n",
    "\n",
    "# Calculate the average score across all users\n",
    "cursor.execute('''\n",
    "SELECT AVG(score) \n",
    "FROM Activities;\n",
    "''')\n",
    "\n",
    "# Fetch and print the average score across all users\n",
    "avg_score_all_users = cursor.fetchone()[0]\n",
    "print(f\"Average Score across all users: {avg_score_all_users}\")"
   ]
  },
  {
   "cell_type": "markdown",
   "metadata": {},
   "source": [
    "Daten in der relationalen Datenbank anzeigen"
   ]
  },
  {
   "cell_type": "code",
   "execution_count": 9,
   "metadata": {},
   "outputs": [
    {
     "name": "stdout",
     "output_type": "stream",
     "text": [
      "\n",
      "Relational Database Output:\n",
      "(1, 'PlayerOne', 'playerone@example.com', 'GameA', 1500, '2024-08-01')\n",
      "(1, 'PlayerOne', 'playerone@example.com', 'GameB', 3000, '2024-08-05')\n",
      "(2, 'GamerGirl', 'gamergirl@example.com', 'GameA', 2000, '2024-08-03')\n"
     ]
    }
   ],
   "source": [
    "# Query to check the data in the relational database\n",
    "cursor.execute('''\n",
    "SELECT Users.user_id, Users.username, Users.email, Activities.game, \n",
    "Activities.score, Activities.date\n",
    "FROM Activities\n",
    "JOIN Users ON Activities.user_id = Users.user_id;\n",
    "''')\n",
    "\n",
    "rows = cursor.fetchall()\n",
    "\n",
    "print(\"\\nRelational Database Output:\")\n",
    "for row in rows:\n",
    "    print(row)\n"
   ]
  },
  {
   "cell_type": "markdown",
   "metadata": {},
   "source": [
    "Verbindung schließen"
   ]
  },
  {
   "cell_type": "code",
   "execution_count": 10,
   "metadata": {},
   "outputs": [],
   "source": [
    "\n",
    "# Close the connection\n",
    "connection.close()"
   ]
  }
 ],
 "metadata": {
  "kernelspec": {
   "display_name": ".venv",
   "language": "python",
   "name": "python3"
  },
  "language_info": {
   "codemirror_mode": {
    "name": "ipython",
    "version": 3
   },
   "file_extension": ".py",
   "mimetype": "text/x-python",
   "name": "python",
   "nbconvert_exporter": "python",
   "pygments_lexer": "ipython3",
   "version": "3.12.2"
  }
 },
 "nbformat": 4,
 "nbformat_minor": 2
}
